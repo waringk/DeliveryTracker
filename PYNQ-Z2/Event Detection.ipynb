{
 "cells": [
  {
   "cell_type": "code",
   "execution_count": 1,
   "metadata": {},
   "outputs": [
    {
     "data": {
      "application/javascript": [
       "\n",
       "require(['notebook/js/codecell'], function(codecell) {\n",
       "  codecell.CodeCell.options_default.highlight_modes[\n",
       "      'magic_text/x-csrc'] = {'reg':[/^%%microblaze/]};\n",
       "  Jupyter.notebook.events.one('kernel_ready.Kernel', function(){\n",
       "      Jupyter.notebook.get_cells().map(function(cell){\n",
       "          if (cell.cell_type == 'code'){ cell.auto_highlight(); } }) ;\n",
       "  });\n",
       "});\n"
      ]
     },
     "metadata": {},
     "output_type": "display_data"
    }
   ],
   "source": [
    "# load the overlay \n",
    "from pynq.overlays.base import BaseOverlay\n",
    "from pynq.lib.video import *\n",
    "import cv2\n",
    "import numpy as np\n",
    "import requests\n",
    "import sys\n",
    "import time\n",
    "\n",
    "base = BaseOverlay(\"base.bit\")\n",
    "Mode = VideoMode(1280,720,24) \n",
    "\n",
    "#initialize camera from openCV \n",
    "videoIn = cv2.VideoCapture(0)\n",
    "videoIn.set(cv2.CAP_PROP_FRAME_WIDTH, 1280)\n",
    "videoIn.set(cv2.CAP_PROP_FRAME_HEIGHT, 720)\n",
    "hdmi_out = base.video.hdmi_out\n",
    "hdmi_out.configure(Mode,PIXEL_BGR)\n",
    "hdmi_out.start()\n",
    "\n",
    "if(not videoIn.isOpened()): \n",
    "    print(\"Error: Camera is not open\")\n",
    "    sys.exit()"
   ]
  },
  {
   "cell_type": "code",
   "execution_count": 2,
   "metadata": {},
   "outputs": [],
   "source": [
    "face_cascade = cv2.CascadeClassifier('/home/xilinx/jupyter_notebooks/base/video/data/haarcascade_frontalface_default.xml')\n",
    "body_cascade = cv2.CascadeClassifier('/home/xilinx/jupyter_notebooks/base/video/data/haarcascade_upperbody.xml')\n",
    " \n",
    "if (body_cascade.empty()):\n",
    "    print(\"Failed to load cascade from file.\")\n",
    "\n",
    "try:\n",
    "    while True:   \n",
    "        # read next image\n",
    "        ret, frame_vga = videoIn.read()\n",
    "        outframe = hdmi_out.newframe()\n",
    "        outframe[:] = frame_vga\n",
    "        gray_image = cv2.cvtColor(outframe, cv2.COLOR_BGR2GRAY)\n",
    "        # detect multiscale returns x, y, w, h\n",
    "        faces = face_cascade.detectMultiScale(gray_image, scaleFactor=1.4, minNeighbors=5, minSize=(75, 75))\n",
    "        upper_bodies = body_cascade.detectMultiScale(gray_image, 1.08, 1, minSize=(200, 200))\n",
    "\n",
    "        if (ret):    \n",
    "            if(len(faces)>0 or len(upper_bodies)>0):\n",
    "                frameList = outframe.tolist()\n",
    "                url = 'http://192.168.1.10:9595/uploadFrame/'\n",
    "                data = {'param': '911396a7-de99-49e0-b23d-643f48f08348', 'arr': frameList}\n",
    "                response = requests.post(url, json=data)\n",
    "                time.sleep(3)\n",
    "        else:\n",
    "            # video input disconnected\n",
    "            videoIn.release()\n",
    "            hdmi_out.stop()\n",
    "            del hdmi_out\n",
    "            sys.exit()\n",
    "\n",
    "except KeyboardInterrupt:\n",
    "    videoIn.release()\n",
    "    hdmi_out.stop()\n",
    "    del hdmi_out\n"
   ]
  },
  {
   "cell_type": "code",
   "execution_count": null,
   "metadata": {},
   "outputs": [],
   "source": []
  }
 ],
 "metadata": {
  "kernelspec": {
   "display_name": "Python 3",
   "language": "python",
   "name": "python3"
  },
  "language_info": {
   "codemirror_mode": {
    "name": "ipython",
    "version": 3
   },
   "file_extension": ".py",
   "mimetype": "text/x-python",
   "name": "python",
   "nbconvert_exporter": "python",
   "pygments_lexer": "ipython3",
   "version": "3.6.5"
  }
 },
 "nbformat": 4,
 "nbformat_minor": 2
}
